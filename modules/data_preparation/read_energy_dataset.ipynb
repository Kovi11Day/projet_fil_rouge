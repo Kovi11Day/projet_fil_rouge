{
 "cells": [
  {
   "cell_type": "code",
   "execution_count": 15,
   "id": "e9a112f1",
   "metadata": {},
   "outputs": [],
   "source": [
    "# imports\n",
    "import pandas as pd\n",
    "import matplotlib.pyplot as plt\n",
    "import datetime\n",
    "import numpy as np\n",
    "from sktime import datasets\n",
    "from sktime.forecasting import model_selection\n",
    "from sktime.utils.plotting import plot_series\n",
    "#!pip install sktime\n",
    "\n",
    "class EnergyDataset:\n",
    "    \n",
    "    def __init__(self, dataset_path):\n",
    "        \n",
    "        # Load dataset from path\n",
    "        self.initial_dataset = pd.read_csv(dataset_path)\n",
    "        self.formatted_dataset = self.initial_dataset\n",
    "        \n",
    "    def get_data_by_equipement_id(self, equipment_id, formatted_dataset=True):\n",
    "        \n",
    "        # filter dataset by equipment id\n",
    "        if formatted_dataset:\n",
    "            dataset = self.formatted_dataset[self.formatted_dataset['equipment_id']== equipment_id]\n",
    "        else:\n",
    "            dataset = self.initial_dataset[self.initial_dataset['equipment_id']== equipment_id]\n",
    "            \n",
    "        return dataset\n",
    "    \n",
    "    def format_energy_to_numeric(self):\n",
    "        # apply format to dataset\n",
    "        self.formatted_dataset['energy_input_in_mwh'] = self.formatted_dataset['energy_input_in_mwh'].str.replace(',','.')\n",
    "        self.formatted_dataset['energy_output_in_mwh'] = self.formatted_dataset['energy_output_in_mwh'].str.replace(',','.')\n",
    "        self.formatted_dataset['energy_input_in_mwh'] = pd.to_numeric(self.formatted_dataset['energy_input_in_mwh'])\n",
    "        self.formatted_dataset['energy_output_in_mwh'] = pd.to_numeric(self.formatted_dataset['energy_output_in_mwh'])\n",
    "\n",
    "    def format_to_timeseries(self):\n",
    "        self.formatted_dataset['timestamp_local'] = pd.to_datetime(self.formatted_dataset['timestamp_local'])\n",
    "        self.formatted_dataset.sort_values(by='timestamp_local', inplace = True) \n",
    "        self.formatted_dataset.set_index(['timestamp_local'], inplace=True)\n"
   ]
  }
 ],
 "metadata": {
  "kernelspec": {
   "display_name": "Python 3",
   "language": "python",
   "name": "python3"
  },
  "language_info": {
   "codemirror_mode": {
    "name": "ipython",
    "version": 3
   },
   "file_extension": ".py",
   "mimetype": "text/x-python",
   "name": "python",
   "nbconvert_exporter": "python",
   "pygments_lexer": "ipython3",
   "version": "3.8.8"
  }
 },
 "nbformat": 4,
 "nbformat_minor": 5
}
