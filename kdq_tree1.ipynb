{
 "cells": [
  {
   "cell_type": "code",
   "execution_count": 3,
   "id": "f31bb09d",
   "metadata": {},
   "outputs": [],
   "source": [
    "import modules.data_preparation.v1.ETLData as dp"
   ]
  },
  {
   "cell_type": "code",
   "execution_count": 4,
   "id": "f5550de1",
   "metadata": {},
   "outputs": [],
   "source": [
    "dataset = dp.ETLData('../data/dataset1.csv')"
   ]
  },
  {
   "cell_type": "code",
   "execution_count": 6,
   "id": "fb9c68cb",
   "metadata": {},
   "outputs": [
    {
     "data": {
      "text/html": [
       "<div>\n",
       "<style scoped>\n",
       "    .dataframe tbody tr th:only-of-type {\n",
       "        vertical-align: middle;\n",
       "    }\n",
       "\n",
       "    .dataframe tbody tr th {\n",
       "        vertical-align: top;\n",
       "    }\n",
       "\n",
       "    .dataframe thead th {\n",
       "        text-align: right;\n",
       "    }\n",
       "</style>\n",
       "<table border=\"1\" class=\"dataframe\">\n",
       "  <thead>\n",
       "    <tr style=\"text-align: right;\">\n",
       "      <th></th>\n",
       "      <th>building_id</th>\n",
       "      <th>equipment_type</th>\n",
       "      <th>equipment_type_and_sub_type</th>\n",
       "      <th>equipment_id</th>\n",
       "      <th>timestamp_local</th>\n",
       "      <th>energy_input_in_mwh</th>\n",
       "      <th>energy_output_in_mwh</th>\n",
       "    </tr>\n",
       "  </thead>\n",
       "  <tbody>\n",
       "    <tr>\n",
       "      <th>0</th>\n",
       "      <td>it003515r</td>\n",
       "      <td>chiller</td>\n",
       "      <td>chiller_compression</td>\n",
       "      <td>eq_it003515r_chiller_compression_01</td>\n",
       "      <td>2022-03-24 08:00:00</td>\n",
       "      <td>0</td>\n",
       "      <td>0</td>\n",
       "    </tr>\n",
       "  </tbody>\n",
       "</table>\n",
       "</div>"
      ],
      "text/plain": [
       "  building_id equipment_type equipment_type_and_sub_type  \\\n",
       "0   it003515r        chiller         chiller_compression   \n",
       "\n",
       "                          equipment_id      timestamp_local  \\\n",
       "0  eq_it003515r_chiller_compression_01  2022-03-24 08:00:00   \n",
       "\n",
       "  energy_input_in_mwh energy_output_in_mwh  \n",
       "0                   0                    0  "
      ]
     },
     "execution_count": 6,
     "metadata": {},
     "output_type": "execute_result"
    }
   ],
   "source": [
    "dataset.get_data().head(1)"
   ]
  },
  {
   "cell_type": "code",
   "execution_count": 7,
   "id": "608b3195",
   "metadata": {},
   "outputs": [
    {
     "data": {
      "text/plain": [
       "<modules.data_preparation.v1.ETLData.ETLData at 0x7fbb173bb550>"
      ]
     },
     "execution_count": 7,
     "metadata": {},
     "output_type": "execute_result"
    }
   ],
   "source": [
    "efficiency_fn = (lambda e_in, e_out: e_out/e_in)\n",
    "positive = (lambda x: x>0)\n",
    "\n",
    "\n",
    "(\n",
    "dataset.to_numeric(['energy_input_in_mwh', 'energy_output_in_mwh'])\n",
    "        .filter_by_column_value('energy_input_in_mwh', positive)\n",
    "        .filter_by_column_value('energy_output_in_mwh', positive)\n",
    "        .to_timeseries('timestamp_local')\n",
    "        .compute_column(column_name='efficiency', fn_arg_col_names=['energy_input_in_mwh', 'energy_output_in_mwh'], fn_compute=efficiency_fn)\n",
    ")"
   ]
  },
  {
   "cell_type": "code",
   "execution_count": 8,
   "id": "274cb31e",
   "metadata": {},
   "outputs": [
    {
     "data": {
      "text/html": [
       "<div>\n",
       "<style scoped>\n",
       "    .dataframe tbody tr th:only-of-type {\n",
       "        vertical-align: middle;\n",
       "    }\n",
       "\n",
       "    .dataframe tbody tr th {\n",
       "        vertical-align: top;\n",
       "    }\n",
       "\n",
       "    .dataframe thead th {\n",
       "        text-align: right;\n",
       "    }\n",
       "</style>\n",
       "<table border=\"1\" class=\"dataframe\">\n",
       "  <thead>\n",
       "    <tr style=\"text-align: right;\">\n",
       "      <th></th>\n",
       "      <th>building_id</th>\n",
       "      <th>equipment_type</th>\n",
       "      <th>equipment_type_and_sub_type</th>\n",
       "      <th>equipment_id</th>\n",
       "      <th>energy_input_in_mwh</th>\n",
       "      <th>energy_output_in_mwh</th>\n",
       "      <th>efficiency</th>\n",
       "    </tr>\n",
       "    <tr>\n",
       "      <th>timestamp_local</th>\n",
       "      <th></th>\n",
       "      <th></th>\n",
       "      <th></th>\n",
       "      <th></th>\n",
       "      <th></th>\n",
       "      <th></th>\n",
       "      <th></th>\n",
       "    </tr>\n",
       "  </thead>\n",
       "  <tbody>\n",
       "    <tr>\n",
       "      <th>2021-01-01 01:00:00</th>\n",
       "      <td>it049959b</td>\n",
       "      <td>chiller</td>\n",
       "      <td>chiller_compression</td>\n",
       "      <td>eq_it049959b_chiller_compression_03</td>\n",
       "      <td>0.13675</td>\n",
       "      <td>0.74</td>\n",
       "      <td>1.0</td>\n",
       "    </tr>\n",
       "  </tbody>\n",
       "</table>\n",
       "</div>"
      ],
      "text/plain": [
       "                    building_id equipment_type equipment_type_and_sub_type  \\\n",
       "timestamp_local                                                              \n",
       "2021-01-01 01:00:00   it049959b        chiller         chiller_compression   \n",
       "\n",
       "                                            equipment_id  energy_input_in_mwh  \\\n",
       "timestamp_local                                                                 \n",
       "2021-01-01 01:00:00  eq_it049959b_chiller_compression_03              0.13675   \n",
       "\n",
       "                     energy_output_in_mwh  efficiency  \n",
       "timestamp_local                                        \n",
       "2021-01-01 01:00:00                  0.74         1.0  "
      ]
     },
     "execution_count": 8,
     "metadata": {},
     "output_type": "execute_result"
    }
   ],
   "source": [
    "dataset.get_data().head(1)"
   ]
  },
  {
   "cell_type": "code",
   "execution_count": null,
   "id": "17d6f45b",
   "metadata": {},
   "outputs": [],
   "source": []
  }
 ],
 "metadata": {
  "kernelspec": {
   "display_name": "Python 3",
   "language": "python",
   "name": "python3"
  },
  "language_info": {
   "codemirror_mode": {
    "name": "ipython",
    "version": 3
   },
   "file_extension": ".py",
   "mimetype": "text/x-python",
   "name": "python",
   "nbconvert_exporter": "python",
   "pygments_lexer": "ipython3",
   "version": "3.8.8"
  }
 },
 "nbformat": 4,
 "nbformat_minor": 5
}
