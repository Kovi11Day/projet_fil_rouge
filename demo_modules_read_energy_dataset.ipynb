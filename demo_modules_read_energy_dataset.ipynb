{
 "cells": [
  {
   "cell_type": "code",
   "execution_count": 2,
   "id": "4bdedba6",
   "metadata": {},
   "outputs": [
    {
     "name": "stderr",
     "output_type": "stream",
     "text": [
      "/opt/anaconda3/lib/python3.8/site-packages/dask/dataframe/utils.py:369: FutureWarning: pandas.Int64Index is deprecated and will be removed from pandas in a future version. Use pandas.Index with the appropriate dtype instead.\n",
      "  _numeric_index_types = (pd.Int64Index, pd.Float64Index, pd.UInt64Index)\n",
      "/opt/anaconda3/lib/python3.8/site-packages/dask/dataframe/utils.py:369: FutureWarning: pandas.Float64Index is deprecated and will be removed from pandas in a future version. Use pandas.Index with the appropriate dtype instead.\n",
      "  _numeric_index_types = (pd.Int64Index, pd.Float64Index, pd.UInt64Index)\n",
      "/opt/anaconda3/lib/python3.8/site-packages/dask/dataframe/utils.py:369: FutureWarning: pandas.UInt64Index is deprecated and will be removed from pandas in a future version. Use pandas.Index with the appropriate dtype instead.\n",
      "  _numeric_index_types = (pd.Int64Index, pd.Float64Index, pd.UInt64Index)\n"
     ]
    }
   ],
   "source": [
    "# imports\n",
    "import modules.data_preparation.read_energy_dataset as ds"
   ]
  },
  {
   "cell_type": "code",
   "execution_count": 9,
   "id": "04154ffb",
   "metadata": {},
   "outputs": [],
   "source": [
    "dataset = ds.EnergyDataset('../data/dataset1.csv')"
   ]
  },
  {
   "cell_type": "code",
   "execution_count": 10,
   "id": "103057f9",
   "metadata": {},
   "outputs": [
    {
     "data": {
      "text/html": [
       "<div>\n",
       "<style scoped>\n",
       "    .dataframe tbody tr th:only-of-type {\n",
       "        vertical-align: middle;\n",
       "    }\n",
       "\n",
       "    .dataframe tbody tr th {\n",
       "        vertical-align: top;\n",
       "    }\n",
       "\n",
       "    .dataframe thead th {\n",
       "        text-align: right;\n",
       "    }\n",
       "</style>\n",
       "<table border=\"1\" class=\"dataframe\">\n",
       "  <thead>\n",
       "    <tr style=\"text-align: right;\">\n",
       "      <th></th>\n",
       "      <th>building_id</th>\n",
       "      <th>equipment_type</th>\n",
       "      <th>equipment_type_and_sub_type</th>\n",
       "      <th>equipment_id</th>\n",
       "      <th>timestamp_local</th>\n",
       "      <th>energy_input_in_mwh</th>\n",
       "      <th>energy_output_in_mwh</th>\n",
       "    </tr>\n",
       "  </thead>\n",
       "  <tbody>\n",
       "    <tr>\n",
       "      <th>177</th>\n",
       "      <td>it049959b</td>\n",
       "      <td>chiller</td>\n",
       "      <td>chiller_compression</td>\n",
       "      <td>eq_it049959b_chiller_compression_01</td>\n",
       "      <td>2022-03-24 02:00:00</td>\n",
       "      <td>0</td>\n",
       "      <td>0</td>\n",
       "    </tr>\n",
       "    <tr>\n",
       "      <th>178</th>\n",
       "      <td>it049959b</td>\n",
       "      <td>chiller</td>\n",
       "      <td>chiller_compression</td>\n",
       "      <td>eq_it049959b_chiller_compression_01</td>\n",
       "      <td>2022-03-24 14:00:00</td>\n",
       "      <td>0</td>\n",
       "      <td>0</td>\n",
       "    </tr>\n",
       "    <tr>\n",
       "      <th>179</th>\n",
       "      <td>it049959b</td>\n",
       "      <td>chiller</td>\n",
       "      <td>chiller_compression</td>\n",
       "      <td>eq_it049959b_chiller_compression_01</td>\n",
       "      <td>2022-03-24 23:00:00</td>\n",
       "      <td>0</td>\n",
       "      <td>0</td>\n",
       "    </tr>\n",
       "  </tbody>\n",
       "</table>\n",
       "</div>"
      ],
      "text/plain": [
       "    building_id equipment_type equipment_type_and_sub_type  \\\n",
       "177   it049959b        chiller         chiller_compression   \n",
       "178   it049959b        chiller         chiller_compression   \n",
       "179   it049959b        chiller         chiller_compression   \n",
       "\n",
       "                            equipment_id      timestamp_local  \\\n",
       "177  eq_it049959b_chiller_compression_01  2022-03-24 02:00:00   \n",
       "178  eq_it049959b_chiller_compression_01  2022-03-24 14:00:00   \n",
       "179  eq_it049959b_chiller_compression_01  2022-03-24 23:00:00   \n",
       "\n",
       "    energy_input_in_mwh energy_output_in_mwh  \n",
       "177                   0                    0  \n",
       "178                   0                    0  \n",
       "179                   0                    0  "
      ]
     },
     "execution_count": 10,
     "metadata": {},
     "output_type": "execute_result"
    }
   ],
   "source": [
    "dataset.get_data_by_equipement_id('eq_it049959b_chiller_compression_01').head(3)"
   ]
  },
  {
   "cell_type": "code",
   "execution_count": 11,
   "id": "3c855b7f",
   "metadata": {},
   "outputs": [],
   "source": [
    "dataset.format_energy_to_numeric()\n",
    "dataset.format_to_timeseries()"
   ]
  },
  {
   "cell_type": "code",
   "execution_count": 12,
   "id": "6d23ebd5",
   "metadata": {},
   "outputs": [
    {
     "data": {
      "text/html": [
       "<div>\n",
       "<style scoped>\n",
       "    .dataframe tbody tr th:only-of-type {\n",
       "        vertical-align: middle;\n",
       "    }\n",
       "\n",
       "    .dataframe tbody tr th {\n",
       "        vertical-align: top;\n",
       "    }\n",
       "\n",
       "    .dataframe thead th {\n",
       "        text-align: right;\n",
       "    }\n",
       "</style>\n",
       "<table border=\"1\" class=\"dataframe\">\n",
       "  <thead>\n",
       "    <tr style=\"text-align: right;\">\n",
       "      <th></th>\n",
       "      <th>building_id</th>\n",
       "      <th>equipment_type</th>\n",
       "      <th>equipment_type_and_sub_type</th>\n",
       "      <th>equipment_id</th>\n",
       "      <th>energy_input_in_mwh</th>\n",
       "      <th>energy_output_in_mwh</th>\n",
       "    </tr>\n",
       "    <tr>\n",
       "      <th>timestamp_local</th>\n",
       "      <th></th>\n",
       "      <th></th>\n",
       "      <th></th>\n",
       "      <th></th>\n",
       "      <th></th>\n",
       "      <th></th>\n",
       "    </tr>\n",
       "  </thead>\n",
       "  <tbody>\n",
       "    <tr>\n",
       "      <th>2021-01-01 01:00:00</th>\n",
       "      <td>it049959b</td>\n",
       "      <td>chiller</td>\n",
       "      <td>chiller_compression</td>\n",
       "      <td>eq_it049959b_chiller_compression_01</td>\n",
       "      <td>0.0</td>\n",
       "      <td>0.0</td>\n",
       "    </tr>\n",
       "    <tr>\n",
       "      <th>2021-01-01 02:00:00</th>\n",
       "      <td>it049959b</td>\n",
       "      <td>chiller</td>\n",
       "      <td>chiller_compression</td>\n",
       "      <td>eq_it049959b_chiller_compression_01</td>\n",
       "      <td>0.0</td>\n",
       "      <td>0.0</td>\n",
       "    </tr>\n",
       "    <tr>\n",
       "      <th>2021-01-01 03:00:00</th>\n",
       "      <td>it049959b</td>\n",
       "      <td>chiller</td>\n",
       "      <td>chiller_compression</td>\n",
       "      <td>eq_it049959b_chiller_compression_01</td>\n",
       "      <td>0.0</td>\n",
       "      <td>0.0</td>\n",
       "    </tr>\n",
       "  </tbody>\n",
       "</table>\n",
       "</div>"
      ],
      "text/plain": [
       "                    building_id equipment_type equipment_type_and_sub_type  \\\n",
       "timestamp_local                                                              \n",
       "2021-01-01 01:00:00   it049959b        chiller         chiller_compression   \n",
       "2021-01-01 02:00:00   it049959b        chiller         chiller_compression   \n",
       "2021-01-01 03:00:00   it049959b        chiller         chiller_compression   \n",
       "\n",
       "                                            equipment_id  energy_input_in_mwh  \\\n",
       "timestamp_local                                                                 \n",
       "2021-01-01 01:00:00  eq_it049959b_chiller_compression_01                  0.0   \n",
       "2021-01-01 02:00:00  eq_it049959b_chiller_compression_01                  0.0   \n",
       "2021-01-01 03:00:00  eq_it049959b_chiller_compression_01                  0.0   \n",
       "\n",
       "                     energy_output_in_mwh  \n",
       "timestamp_local                            \n",
       "2021-01-01 01:00:00                   0.0  \n",
       "2021-01-01 02:00:00                   0.0  \n",
       "2021-01-01 03:00:00                   0.0  "
      ]
     },
     "execution_count": 12,
     "metadata": {},
     "output_type": "execute_result"
    }
   ],
   "source": [
    "dataset.get_data_by_equipement_id('eq_it049959b_chiller_compression_01').head(3)"
   ]
  },
  {
   "cell_type": "code",
   "execution_count": null,
   "id": "839d6871",
   "metadata": {},
   "outputs": [],
   "source": []
  }
 ],
 "metadata": {
  "kernelspec": {
   "display_name": "Python 3",
   "language": "python",
   "name": "python3"
  },
  "language_info": {
   "codemirror_mode": {
    "name": "ipython",
    "version": 3
   },
   "file_extension": ".py",
   "mimetype": "text/x-python",
   "name": "python",
   "nbconvert_exporter": "python",
   "pygments_lexer": "ipython3",
   "version": "3.8.8"
  }
 },
 "nbformat": 4,
 "nbformat_minor": 5
}
